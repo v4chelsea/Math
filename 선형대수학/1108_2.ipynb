{
 "cells": [
  {
   "cell_type": "markdown",
   "metadata": {},
   "source": [
    "행렬의 기본 연산 : 합(덧셈), 차(뺄셈), 스칼라배, 곱\n",
    "합, 차 : 두 행렬의 크기가 동일할 떄만 적용 가능"
   ]
  },
  {
   "cell_type": "code",
   "execution_count": 1,
   "metadata": {},
   "outputs": [],
   "source": [
    "import numpy as np"
   ]
  },
  {
   "cell_type": "code",
   "execution_count": 2,
   "metadata": {},
   "outputs": [
    {
     "name": "stdout",
     "output_type": "stream",
     "text": [
      "[[ 6  8]\n",
      " [10 12]]\n",
      "[[ 6  8]\n",
      " [10 12]]\n"
     ]
    },
    {
     "ename": "ValueError",
     "evalue": "operands could not be broadcast together with shapes (3,2) (2,2) ",
     "output_type": "error",
     "traceback": [
      "\u001b[1;31m---------------------------------------------------------------------------\u001b[0m",
      "\u001b[1;31mValueError\u001b[0m                                Traceback (most recent call last)",
      "\u001b[1;32m<ipython-input-2-2ed1d4a4af6a>\u001b[0m in \u001b[0;36m<module>\u001b[1;34m\u001b[0m\n\u001b[0;32m     11\u001b[0m \u001b[0mprint\u001b[0m\u001b[1;33m(\u001b[0m\u001b[0mmatrix_A\u001b[0m \u001b[1;33m+\u001b[0m \u001b[0mmatrix_B\u001b[0m\u001b[1;33m)\u001b[0m\u001b[1;33m\u001b[0m\u001b[1;33m\u001b[0m\u001b[0m\n\u001b[0;32m     12\u001b[0m \u001b[0mprint\u001b[0m\u001b[1;33m(\u001b[0m\u001b[0mmatrix_B\u001b[0m \u001b[1;33m+\u001b[0m \u001b[0mmatrix_A\u001b[0m\u001b[1;33m)\u001b[0m\u001b[1;33m\u001b[0m\u001b[1;33m\u001b[0m\u001b[0m\n\u001b[1;32m---> 13\u001b[1;33m \u001b[0mprint\u001b[0m\u001b[1;33m(\u001b[0m\u001b[0mmatrix_C\u001b[0m \u001b[1;33m+\u001b[0m \u001b[0mmatrix_A\u001b[0m\u001b[1;33m)\u001b[0m\u001b[1;33m\u001b[0m\u001b[1;33m\u001b[0m\u001b[0m\n\u001b[0m",
      "\u001b[1;31mValueError\u001b[0m: operands could not be broadcast together with shapes (3,2) (2,2) "
     ]
    }
   ],
   "source": [
    "matrix_A = np.array([[1, 2],\n",
    "                     [3, 4]])\n",
    "\n",
    "matrix_B = np.array([[5, 6],\n",
    "                     [7, 8]])\n",
    "\n",
    "matrix_C = np.array([[9, 10],\n",
    "                     [11, 12],\n",
    "                     [13, 14]])\n",
    "\n",
    "# A, B는 사이즈가 동일하기 때문에 연산이 정상적으로 진행\n",
    "print(matrix_A + matrix_B)\n",
    "print(matrix_B + matrix_A)\n",
    "\n",
    "# C는 사이즈가 다르기 때문에 연산이 진행되지 않음\n",
    "print(matrix_C + matrix_A)\n"
   ]
  }
 ],
 "metadata": {
  "interpreter": {
   "hash": "eaea366635c942e0b6ef2a4427b3242479306b5cd6ce58d837e58132c46ca6a8"
  },
  "kernelspec": {
   "display_name": "Python 3.9.5 64-bit ('tensorflow': conda)",
   "name": "python3"
  },
  "language_info": {
   "codemirror_mode": {
    "name": "ipython",
    "version": 3
   },
   "file_extension": ".py",
   "mimetype": "text/x-python",
   "name": "python",
   "nbconvert_exporter": "python",
   "pygments_lexer": "ipython3",
   "version": "3.9.5"
  },
  "orig_nbformat": 4
 },
 "nbformat": 4,
 "nbformat_minor": 2
}
